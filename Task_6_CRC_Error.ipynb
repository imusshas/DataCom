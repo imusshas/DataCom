{
 "cells": [
  {
   "cell_type": "markdown",
   "id": "05cfdee3-d787-41b0-87f0-a19520fc7e14",
   "metadata": {},
   "source": [
    "#### Name: Md. Abid Ullah Muhib\n",
    "\n",
    "#### Reg. No.: 2020331089\n",
    "\n",
    "##### Session : 2020-2021\n",
    "\n",
    "##### Computer Science & Engineering, SUST\n",
    "\n",
    "<hr />\n"
   ]
  },
  {
   "cell_type": "markdown",
   "id": "46088a45-5083-434e-a743-4b220ac46d87",
   "metadata": {},
   "source": [
    "# CRC (Cyclic Redundancy Code) Error Detection\n",
    "\n",
    "The steps involved are:\n",
    "\n",
    "1. Generate a random binary data sequence.\n",
    "2. Define a generator polynomial for the CRC.\n",
    "3. Calculate the CRC checksum for thedata sequence.\n",
    "4. Simulate the transmission of the data with the checksum.\n",
    "5. Verify the integrity of the received data using the CRC checksum.\n"
   ]
  },
  {
   "cell_type": "code",
   "execution_count": 3,
   "id": "055af065-a542-4ded-b673-7ff205be391d",
   "metadata": {},
   "outputs": [
    {
     "name": "stdout",
     "output_type": "stream",
     "text": [
      "Original Data: [1 1 1 0 1 0 1 0 0 0 0 0 1 0 0 1]\n",
      "Generator Polynomial: [1, 0, 0, 1, 1]\n",
      "CRC Checksum: [1, 0, 1, 1]\n",
      "Data with CRC: [1 1 1 0 1 0 1 0 0 0 0 0 1 0 0 1 1 0 1 1]\n",
      "No errors detected.\n"
     ]
    }
   ],
   "source": [
    "import numpy as np\n",
    "\n",
    "# Function to calculate the CRC checksum\n",
    "def calculate_crc(data, generator):\n",
    "    data = list(data)\n",
    "    generator = list(generator)\n",
    "    # Append zeros equal to the length of the generator - 1 to the data\n",
    "    data.extend([0] * (len(generator) - 1))\n",
    "    # Perform binary division\n",
    "    for i in range(len(data) - len(generator) + 1):\n",
    "        if data[i] == 1:\n",
    "            for j in range(len(generator)):\n",
    "                data[i + j] ^= generator[j]\n",
    "    # The remainder is the CRC checksum\n",
    "    return data[-(len(generator) - 1):]\n",
    "\n",
    "# Function to append the CRC checksum to the data\n",
    "def append_crc(data, crc):\n",
    "    return np.concatenate((data, crc))\n",
    "\n",
    "# Function to verify the data with the CRC checksum\n",
    "def verify_crc(data_with_crc, generator):\n",
    "    return not any(calculate_crc(data_with_crc, generator))\n",
    "\n",
    "# Generate a random binary data sequence\n",
    "data_length = 16\n",
    "data = np.random.randint(0, 2, data_length)\n",
    "print(f\"Original Data: {data}\")\n",
    "\n",
    "# Define a generator polynomial (example: CRC-4-ITU)\n",
    "generator = [1, 0, 0, 1, 1]  # x^4 + x + 1\n",
    "print(f\"Generator Polynomial: {generator}\")\n",
    "\n",
    "# Calculate the CRC checksum\n",
    "crc = calculate_crc(data, generator)\n",
    "print(f\"CRC Checksum: {crc}\")\n",
    "\n",
    "# Append the CRC checksum to the data\n",
    "data_with_crc = append_crc(data, crc)\n",
    "print(f\"Data with CRC: {data_with_crc}\")\n",
    "\n",
    "# Simulate the transmission (for testing, you can introduce an error)\n",
    "received_data_with_crc = data_with_crc.copy()\n",
    "# Uncomment the next line to introduce an error\n",
    "# received_data_with_crc[5] ^= 1  # Flip a bit to simulate an error\n",
    "\n",
    "# Verify the integrity of the received data\n",
    "is_valid = verify_crc(received_data_with_crc, generator)\n",
    "if is_valid:\n",
    "    print(\"No errors detected.\")\n",
    "else:\n",
    "    print(\"Error detected.\")\n"
   ]
  }
 ],
 "metadata": {
  "kernelspec": {
   "display_name": "Python 3 (ipykernel)",
   "language": "python",
   "name": "python3"
  },
  "language_info": {
   "codemirror_mode": {
    "name": "ipython",
    "version": 3
   },
   "file_extension": ".py",
   "mimetype": "text/x-python",
   "name": "python",
   "nbconvert_exporter": "python",
   "pygments_lexer": "ipython3",
   "version": "3.9.18"
  }
 },
 "nbformat": 4,
 "nbformat_minor": 5
}
