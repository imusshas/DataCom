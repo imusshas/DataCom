{
 "cells": [
  {
   "cell_type": "markdown",
   "id": "81260150-590d-4f98-8e9d-03846d08591f",
   "metadata": {},
   "source": [
    "#### Name: Md. Abid Ullah Muhib\n",
    "\n",
    "#### Reg. No.: 2020331089\n",
    "\n",
    "##### Session : 2020-2021\n",
    "\n",
    "##### Computer Science & Engineering, SUST\n",
    "\n",
    "<hr />\n"
   ]
  },
  {
   "cell_type": "markdown",
   "id": "92237e04-a0a5-480e-ac68-b8c4c0c1364a",
   "metadata": {},
   "source": [
    "## Even Parity Error Detection for 4x8 Block\n",
    "\n",
    "### Here's the step-by-step approach:\n",
    "\n",
    "1. Generate a random 4x8 data block.\n",
    "2. Calculate and append an even parity bit for each row.\n",
    "3. Simulate a received data block with the parity bits.\n",
    "4. Check for errors in the received data block.\n"
   ]
  },
  {
   "cell_type": "code",
   "execution_count": 4,
   "id": "9b72d676-c866-4f41-993b-1af345fb3103",
   "metadata": {},
   "outputs": [
    {
     "name": "stdout",
     "output_type": "stream",
     "text": [
      "Original Data Block with Parity Bits:\n",
      "[[1 1 0 0 0 1 0 1 0]\n",
      " [0 1 1 0 1 0 1 0 0]\n",
      " [0 1 0 0 0 0 0 1 0]\n",
      " [0 0 0 1 1 0 0 1 1]]\n",
      "\n",
      "Received Data Block with Parity Bits:\n",
      "[[1 1 0 0 0 1 0 1 0]\n",
      " [0 1 1 0 1 0 1 0 0]\n",
      " [0 1 0 0 0 0 0 1 0]\n",
      " [0 0 0 1 1 0 0 1 1]]\n",
      "\n",
      "No errors detected.\n"
     ]
    }
   ],
   "source": [
    "import numpy as np\n",
    "\n",
    "# Function to calculate even parity bit for a given row\n",
    "def calculate_parity_bit(row):\n",
    "    return 1 if np.sum(row) % 2 != 0 else 0\n",
    "\n",
    "# Function to create a 4x8 data block with even parity bits\n",
    "def create_data_block_with_parity():\n",
    "    data_block = np.random.randint(0, 2, (4, 8))  # Generate a random 4x8 data block\n",
    "    parity_block = np.zeros((4, 9), dtype=int)  # Initialize the parity block with an extra column for parity bit\n",
    "    \n",
    "    for i in range(4):\n",
    "        parity_block[i, :8] = data_block[i]  # Copy the original data\n",
    "        parity_block[i, 8] = calculate_parity_bit(data_block[i])  # Append the parity bit\n",
    "\n",
    "    return parity_block\n",
    "\n",
    "# Function to check for errors in the received data block with parity bits\n",
    "def check_data_block_with_parity(parity_block):\n",
    "    errors = []\n",
    "    for i in range(4):\n",
    "        row = parity_block[i, :8]  # Extract the original data row\n",
    "        parity_bit = parity_block[i, 8]  # Extract the parity bit\n",
    "        expected_parity = calculate_parity_bit(row)\n",
    "        if parity_bit != expected_parity:\n",
    "            errors.append(f\"Error detected in row {i}\")\n",
    "    return errors\n",
    "\n",
    "# Generate a 4x8 data block with even parity bits\n",
    "data_block_with_parity = create_data_block_with_parity()\n",
    "\n",
    "# Simulate a received data block (you can modify this to simulate errors)\n",
    "received_data_block_with_parity = data_block_with_parity.copy()\n",
    "\n",
    "# Introduce an error for testing (uncomment to introduce an error)\n",
    "# received_data_block_with_parity[2, 3] = 1 - received_data_block_with_parity[2, 3]  # Flip a bit to simulate error\n",
    "\n",
    "# Check for errors in the received data block\n",
    "errors = check_data_block_with_parity(received_data_block_with_parity)\n",
    "\n",
    "# Display results\n",
    "print(\"Original Data Block with Parity Bits:\")\n",
    "print(data_block_with_parity)\n",
    "print(\"\\nReceived Data Block with Parity Bits:\")\n",
    "print(received_data_block_with_parity)\n",
    "\n",
    "if errors:\n",
    "    print(\"\\nErrors detected:\")\n",
    "    for error in errors:\n",
    "        print(error)\n",
    "else:\n",
    "    print(\"\\nNo errors detected.\")"
   ]
  }
 ],
 "metadata": {
  "kernelspec": {
   "display_name": "Python 3 (ipykernel)",
   "language": "python",
   "name": "python3"
  },
  "language_info": {
   "codemirror_mode": {
    "name": "ipython",
    "version": 3
   },
   "file_extension": ".py",
   "mimetype": "text/x-python",
   "name": "python",
   "nbconvert_exporter": "python",
   "pygments_lexer": "ipython3",
   "version": "3.9.18"
  }
 },
 "nbformat": 4,
 "nbformat_minor": 5
}
